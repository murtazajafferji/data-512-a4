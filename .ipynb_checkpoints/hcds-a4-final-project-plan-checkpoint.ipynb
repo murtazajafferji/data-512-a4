{
 "cells": [
  {
   "cell_type": "markdown",
   "metadata": {},
   "source": [
    "Murtaza Jafferji\n",
    "## Ranking JavaScript Packages by Number of Dependent Projects "
   ]
  },
  {
   "cell_type": "markdown",
   "metadata": {},
   "source": [
    "# Problem\n",
    "\n",
    "JavaScript is the most popular programming language on Earth. There are thousands of open source packages released for developers to use in their projects. When developers are deciding between similar packages that fulfill the needs of the project, they often desire to choose the most *popular* package with the largest community size, which often translates to the highest probability of future growth/support. Since *popularity* of the package is not easily measurable, users often use npm downloads or stars on Github as a proxy. However, the number of downloads is an unreliable indicator because download counts are incremented by [automated build processes/robots](https://blog.npmjs.org/post/92574016600/numeric-precision-matters-how-npm-download-counts) and GitHub stars are [indicative of the traffic or attention a package receives on GitHub](https://help.github.com/articles/about-stars/), but not necessarily usage. Additionally, since stars and download counts are nondecreasing, users can incorrectly assume that packages with higher star and download counts currently have larger communities or are more well maintained. "
   ]
  },
  {
   "cell_type": "markdown",
   "metadata": {},
   "source": [
    "# Goals\n",
    "\n",
    "Stars, commits, pull-requests, issues, and downloads are commmonly used to measure popularity of JavaScript packages on GitHub. We will attempt to show that the number references to these packages by other repositories on GitHub is a more useful metric for determining a package's *popularity*. \n",
    "\n",
    "The dependency graph generated as part of this analysis can not only be used by developers to help determine which JavaScript package to choose, but it can also give insights into the dynamics of the JavaScript ecosystem, the adoption trends of JavaScript packages, and the nature of the projects consuming these packages.\n",
    "\n",
    "**Human-centered design inspiration**\n",
    "\n",
    "The decision to pursue this project was inspired by a common issue that people face when trying to evaluate packages on GitHub and the problem some developers have with having the importance of their work recognized. We will gather feedback from JavaScript developers during the formulation of research questions and while evaluating results of the analysis to determine if the new metric provides any additional value to them.\n"
   ]
  },
  {
   "cell_type": "markdown",
   "metadata": {},
   "source": [
    "# Research questions\n",
    "\n",
    "A similar study, [NPM By Numbers](http://npmbynumbers.bocoup.com/), was peformed in 2014, but with the significant difference of only analyzing packages published on NPM and not the applications which consume those packages. We intend to answer similar questions, using GitHub data, that were asked in the exploratory analysis for that study. \n",
    "\n",
    ">How many packages have more than 3 versions?\n",
    ">\n",
    ">How many packages have any direct dependents?\n",
    ">\n",
    ">How many packages are in the top 5% of direct dependents? (> 4)\n",
    ">\n",
    ">How many packages have any deep dependents?\n",
    ">\n",
    ">How many packages are in the top 5% of deep dependents? ( > 7)\n",
    ">\n",
    ">How many packages have a difference of > 1000 between their direct and >deep dependents?\n",
    ">\n",
    ">How many packages are older than one year?\n",
    ">\n",
    ">How many packages are older than two years?\n",
    ">\n",
    ">How many packages are older than three years?\n",
    ">\n",
    ">How many packages haven't been updated in longer than a year?\n",
    ">\n",
    ">Longest running projects [50] - delta between now and created date\n",
    ">\n",
    ">Most used packages [50] - based on deep dependencies\n",
    ">\n",
    ">Most releases [50] - packages with the most versions\n",
    ">\n",
    ">Least known, most valuable packages [50] - those packages that have few direct dependents but have high deep dependencies.\n",
    ">\n",
    ">[Source](https://github.com/iros/npm-by-numbers-analysis/blob/master/analysis/Analysis%20Sketch%20Book%20%28unstructured%29.ipynb)\n",
    "\n"
   ]
  },
  {
   "cell_type": "markdown",
   "metadata": {},
   "source": [
    "# Dataset\n",
    "**Datset used in this analysis**\n",
    ">This 3TB+ dataset comprises the largest released source of GitHub activity to date. It contains a full snapshot of the content of more than 2.8 million open source GitHub repositories including more than 145 million unique commits, over 2 billion different file paths, and the contents of the latest revision for 163 million files, all of which are searchable with regular expressions.\n",
    ">\n",
    ">This public dataset is hosted in Google BigQuery and is included in BigQuery's 1TB/mo of free tier processing. This means that each user receives 1TB of free BigQuery processing every month, which can be used to run queries on this public dataset. \n",
    ">\n",
    ">[Source](https://console.cloud.google.com/marketplace/details/github/github-repos?filter=solution-type:dataset&q=github&id=46ee22ab-2ca4-4750-81a7-3ee0f0150dcb)\n",
    "\n",
    "**What is BigQuery?**\n",
    ">BigQuery is Google's fully managed, NoOps, low cost analytics database. With BigQuery you can query terabytes of data without needing a database administrator or any infrastructure to manage. BigQuery uses familiar SQL and a pay-only-for-what-you-use charging model. BigQuery allows you to focus on analyzing data to find meaningful insights.\n",
    ">\n",
    ">[Source](https://codelabs.developers.google.com/codelabs/bigquery-github/index.html?index=..%2F..%2Findex#0)\n",
    "\n",
    "**Data sources from which Google BigQuery aggregates data**\n",
    "\n",
    ">**GH Archive**\n",
    ">\n",
    ">A log of all public events happening on GitHub.\n",
    ">\n",
    ">* https://www.githubarchive.org/\n",
    ">* https://bigquery.cloud.google.com/table/githubarchive:month.201808\n",
    ">\n",
    ">Updated: Hourly\n",
    ">\n",
    ">**GHTorrent**\n",
    ">\n",
    ">A relational dataset that adds more data from GitHub's knowledge graph:\n",
    ">\n",
    ">* http://ghtorrent.org/gcloud.html\n",
    ">* https://bigquery.cloud.google.com/table/ghtorrent-bq:ght_2018_04_01.users\n",
    ">\n",
    ">Updated: ~Monthly (depending on the project owner availability).\n",
    ">\n",
    ">**GitHub contents**\n",
    ">\n",
    ">A snapshot of the open source contents of GitHub, ready to be analyzed.\n",
    ">\n",
    ">* https://medium.com/google-cloud/github-on-bigquery-analyze-all-the-code-b3576fd2b150\n",
    ">* https://bigquery.cloud.google.com/table/bigquery-public-data:github_repos.files\n",
    ">\n",
    ">Updated: ~Weekly.\n",
    ">  \n",
    ">[Source](https://github.com/fhoffa/analyzing_github)\n",
    "\n",
    "**Scope of the data included in this dataset**\n",
    "> * Projects [hosted on Github] that have a [clear open source license](https://blog.github.com/2016-09-21-license-now-displayed-on-repository-overview/).\n",
    "> * Forks and/or un-notable projects not included.\n",
    "> * Nevertheless, it represents terabytes of code.\n",
    ">\n",
    ">[Source](https://medium.com/google-cloud/github-on-bigquery-analyze-all-the-code-b3576fd2b150) \n",
    ">\n",
    ">**Which percentage of the repositories of GitHub exists on the data set?**\n",
    ">\n",
    ">The results say that 6 months ago (June 2017) ~21,890 repositories got more than 15 stars. Of those ~21,890 repositories, ~53.86% are mirrored on bigquery-public-data.github_repos.contents.\n",
    ">\n",
    ">**How do you refresh the data? Do you use a selected list of projects or do you refresh the list each time?**\n",
    ">\n",
    ">The pipeline looks periodically for new projects. Old projects that change their license to a valid open source one (according to the API) might be missed and there's an option to add them manually.\n",
    ">\n",
    ">[Source](https://github.com/fhoffa/analyzing_github)\n",
    "\n",
    "**License**\n",
    ">This dataset is publicly available for anyone to use under the following terms provided by the Dataset Source - https://help.github.com/articles/github-terms-of-service/ - and is provided \"AS IS\" without any warranty, express or implied, from Google. Google disclaims all liability for any damages, direct or indirect, resulting from the use of the dataset.\n",
    ">\n",
    "> [Source](https://console.cloud.google.com/marketplace/details/github/github-repos?filter=solution-type:dataset&q=github&id=46ee22ab-2ca4-4750-81a7-3ee0f0150dcb&project=api-8220795080820646267-783724&folder&organizationId)\n"
   ]
  },
  {
   "cell_type": "markdown",
   "metadata": {},
   "source": [
    "# Alternate dataset\n",
    "**[Libraries.io Open Source Repository and Dependency Metadata](https://libraries.io/data)**\n",
    "> Libraries.io gathers data from 36 package managers and 3 source code repositories. We track over 2.7m unique open source packages, 33m repositories and 235m interdependencies between them. This gives Libraries.io a unique understanding of open source software. An understanding that we want to share with you. \n",
    ">\n",
    ">In this release you will find data about software distributed and/or crafted publicly on the Internet. You will find information about its development, its distribution and its relationship with other software included as a dependency. You will not find any information about the individuals who create and maintain these projects.\n",
    "\n",
    "**License**\n",
    ">This dataset is released under the [Creative Commons Attribution-ShareAlike 4.0 International Licence](https://creativecommons.org/licenses/by-sa/4.0/).\n",
    ">\n",
    ">This licence provides the user with the freedom to use, adapt and redistribute this data. In return the user must publish any derivative work under a similarly open licence, attributing Libraries.io as a data source. The full text of the licence is included in the data.\n",
    ">\n",
    "> [Source](https://zenodo.org/record/1196312#.W_v3OHdFzZs)\n",
    "\n"
   ]
  },
  {
   "cell_type": "markdown",
   "metadata": {},
   "source": [
    "# Method\n",
    "\n",
    "We will use the following [method](http://jbeckwith.com/2016/08/13/bigquery-github/) to get the ranking of packages with the largest number of dependencies by other repos:\n",
    "1. Get all top level package.json files from [bigquery-public-data:github_repos.files]\n",
    "2. Get the contents of these files from [bigquery-public-data:github_repos.contents]\n",
    "3. Run a JavaScript user-defined-function to parse the dependencies within the contents\n",
    "4. Store the results in a temp table\n",
    "5. GROUP BY / ORDER BY n the temp table to get \n",
    "\n"
   ]
  },
  {
   "cell_type": "markdown",
   "metadata": {},
   "source": [
    "# Limitations of approach\n",
    "\n",
    "* Since we are relying on references contained packages.json data, we are excluding use of packages via CDN\n",
    "* Packages that have many contributors but are not included as dependencies, possibly due to being unfinished, will not be ranked \n",
    "* Projects that do not have an Open Source license are ignored\n",
    "* Projects that have packages.json files below the top level will be ignored"
   ]
  },
  {
   "cell_type": "markdown",
   "metadata": {},
   "source": [
    "# Potential data limitations\n",
    "\n",
    "* 5 TB of data can be processed through queries in BigQuery for free per month. Beyond that, if costs are prohibitive, we may not be able to complete more in depth analysis\n",
    "* Semantic versioning syntax allows for the same string to point to different package versions, depending on when npm install was run. Thus, we cannot reliably consume the package version."
   ]
  },
  {
   "cell_type": "markdown",
   "metadata": {},
   "source": [
    "# Requirements\n",
    "* A device with a browser\n",
    "* A Google Cloud Platform Project"
   ]
  },
  {
   "cell_type": "markdown",
   "metadata": {},
   "source": [
    "# Analysis (placeholder)\n",
    "1. Using the [BigQuery web UI](https://console.cloud.google.com/bigquery?p=bigquery-public-data&d=github_repos&t=commits&page=table), Google allows 1TB of data to be queried for free every month\n",
    "2. Alternatively, each Kaggle user can query 5TB of data for free every 30 days, with the help of Sohier's BigQuery helper module. Setup environment to run BigQueries in Kaggle Kernels:\n",
    "https://www.kaggle.com/poonaml/analyzing-3-million-github-repos-using-bigquery\n"
   ]
  }
 ],
 "metadata": {
  "kernelspec": {
   "display_name": "Python 3",
   "language": "python",
   "name": "python3"
  },
  "language_info": {
   "codemirror_mode": {
    "name": "ipython",
    "version": 3
   },
   "file_extension": ".py",
   "mimetype": "text/x-python",
   "name": "python",
   "nbconvert_exporter": "python",
   "pygments_lexer": "ipython3",
   "version": "3.6.5"
  }
 },
 "nbformat": 4,
 "nbformat_minor": 2
}
